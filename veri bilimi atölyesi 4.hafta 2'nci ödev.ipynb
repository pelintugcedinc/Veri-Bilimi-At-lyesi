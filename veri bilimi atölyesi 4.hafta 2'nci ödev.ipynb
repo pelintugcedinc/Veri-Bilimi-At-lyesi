{
 "cells": [
  {
   "cell_type": "code",
   "execution_count": 1,
   "id": "a981bc1a-d239-400d-9ae6-db7547943fe8",
   "metadata": {},
   "outputs": [
    {
     "name": "stdin",
     "output_type": "stream",
     "text": [
      "Lütfen bir pi değeri giriniz:  3\n",
      "Lütfen bir Yarıçap bilgisi girin:  6.8\n"
     ]
    },
    {
     "name": "stdout",
     "output_type": "stream",
     "text": [
      "138.71999999999997\n"
     ]
    }
   ],
   "source": [
    "# Kullanıcıdan pi değeri ve yarıçap bilgisi alarak dairenin alanını hesaplayan bir fonksiyon oluşturulur.\n",
    "\n",
    "\n",
    "pi= float(input(\"Lütfen bir pi değeri giriniz: \"))\n",
    "r= float(input(\"Lütfen bir Yarıçap bilgisi girin: \"))\n",
    "\n",
    "islem= pi*r**2\n",
    "print(islem)"
   ]
  },
  {
   "cell_type": "code",
   "execution_count": 2,
   "id": "fdff9479-7540-470d-924c-00744a94bc76",
   "metadata": {},
   "outputs": [
    {
     "name": "stdin",
     "output_type": "stream",
     "text": [
      "Bir sayı girin:  6\n"
     ]
    },
    {
     "name": "stdout",
     "output_type": "stream",
     "text": [
      "Girilen sayının faktöriyeli: 720\n"
     ]
    }
   ],
   "source": [
    "#Faktöriyel adında fonksiyon oluşturulur. Döngü kullanarak parametre olarak girilen sayının faktöriyeli hesaplanır. \n",
    "#Format metodunu kullanılarak ekrana yazdırılır.\n",
    "\n",
    "def faktoriyel(n):\n",
    "    sonuc = 1\n",
    "    for i in range(1, n + 1):\n",
    "        sonuc *= i\n",
    "    return sonuc\n",
    "\n",
    "sayi = int(input(\"Bir sayı girin: \"))\n",
    "print(\"Girilen sayının faktöriyeli: {}\".format(faktoriyel(sayi)))\n"
   ]
  },
  {
   "cell_type": "code",
   "execution_count": 3,
   "id": "83bb3aed-7a2d-48bc-9ab6-77ff673401f8",
   "metadata": {},
   "outputs": [
    {
     "name": "stdin",
     "output_type": "stream",
     "text": [
      "Doğdunuz Yılını Girin Lütfen :  1989\n"
     ]
    },
    {
     "name": "stdout",
     "output_type": "stream",
     "text": [
      "1989 doğumlu kişi 35 yaşında.\n"
     ]
    }
   ],
   "source": [
    "#Kişinin fonksiyona doğum yılını vererek kaç yaşında olduğunu hesaplayan bir fonksiyon oluşturun. \n",
    "\n",
    "def yas_hesapla(dogum_yili):\n",
    "    su_an = 2024 \n",
    "    yas = su_an - dogum_yili\n",
    "    return yas\n",
    "\n",
    "dogum_yili =int(input(\"Doğdunuz Yılını Girin Lütfen : \"))\n",
    "print(f\"{dogum_yili} doğumlu kişi {yas_hesapla(dogum_yili)} yaşında.\")\n"
   ]
  },
  {
   "cell_type": "code",
   "execution_count": 7,
   "id": "aef0ec15-7150-4d43-85ad-103ec4c1a853",
   "metadata": {},
   "outputs": [
    {
     "name": "stdin",
     "output_type": "stream",
     "text": [
      "Doğum yılınız: 1967\n",
      "İsminizi girin:  hacer\n"
     ]
    },
    {
     "name": "stdout",
     "output_type": "stream",
     "text": [
      "hacer, emekliliğinize 8 yıl kaldı.\n"
     ]
    }
   ],
   "source": [
    "#Doğum yılı ve isim bilgisi verilen fonksiyon kişinin emekli olup olmadığını söylesin.(Kişi 65 yaşında ise emekli olur.) \n",
    "#Burada yaş hesabını yukarıdaki örnekteki fonksiyonu kullanarak yapsın.(Yani fonksiyon içinde fonksiyon kullanmanızı istiyorum :)) \n",
    "#Kişi 65 yaşında ya da daha fazlaysa \"Emekli oldunuz\" yanıtını,\n",
    "#65 yaşından küçükse emekliliğine kaç yıl kaldığını da hesaplayarak \"(isim) emekliliğine (yıl) kaldı.\" yanıtını versin.\n",
    "\n",
    "import datetime\n",
    "\n",
    "def emeklilik(isim,dogum_y):\n",
    "    su_an=datetime.datetime.now()\n",
    "    emeklilik_yas=65\n",
    "\n",
    "    def kalan_emekli_suresi(hesaplanan_yas, mevcut_yas):\n",
    "        if mevcut_yas >= hesaplanan_yas:\n",
    "            return 0\n",
    "        else:\n",
    "            kalan_sure = hesaplanan_yas - mevcut_yas\n",
    "            return kalan_sure\n",
    "\n",
    "    yas = kalan_emekli_suresi(emeklilik_yas, su_an.year - dogum_yili)\n",
    "\n",
    "    if yas == 0:\n",
    "        return f\"{isim}, emekli oldunuz!\"\n",
    "    else:\n",
    "        return f\"{isim}, emekliliğinize {yas} yıl kaldı.\"\n",
    "\n",
    "dogum_yili = int(input(\"Doğum yılınız:\"))\n",
    "isim = input(\"İsminizi girin: \")\n",
    "print(emeklilik_durumu(isim, dogum_yili))\n"
   ]
  }
 ],
 "metadata": {
  "kernelspec": {
   "display_name": "Python 3 (ipykernel)",
   "language": "python",
   "name": "python3"
  },
  "language_info": {
   "codemirror_mode": {
    "name": "ipython",
    "version": 3
   },
   "file_extension": ".py",
   "mimetype": "text/x-python",
   "name": "python",
   "nbconvert_exporter": "python",
   "pygments_lexer": "ipython3",
   "version": "3.11.7"
  }
 },
 "nbformat": 4,
 "nbformat_minor": 5
}
