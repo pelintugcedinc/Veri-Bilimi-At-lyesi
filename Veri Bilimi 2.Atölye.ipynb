{
 "cells": [
  {
   "cell_type": "code",
   "execution_count": 81,
   "id": "86942dd2-ec7c-4c6c-aa56-d4b1ea000d25",
   "metadata": {},
   "outputs": [
    {
     "name": "stdout",
     "output_type": "stream",
     "text": [
      "a'nın veri tipi:  <class 'float'>\n",
      "b'nın veri tipi:  <class 'int'>\n",
      "c'nın veri tipi:  <class 'str'>\n",
      "d'nın veri tipi:  <class 'bool'>\n"
     ]
    }
   ],
   "source": [
    "#Ödev-1: Değişkenlere atanmış değerlerin veri tipleri arasında dönüşüm yapılır.\n",
    "\n",
    "a=4.6\n",
    "print(\"a'nın veri tipi: \", type(a))\n",
    "\n",
    "b=9\n",
    "print(\"b'nın veri tipi: \",type(b))\n",
    "\n",
    "c=\"3.9\"\n",
    "print(\"c'nın veri tipi: \",type(c))\n",
    "\n",
    "d=True\n",
    "print(\"d'nın veri tipi: \",type(d))\n"
   ]
  },
  {
   "cell_type": "code",
   "execution_count": 76,
   "id": "f41be6e4-30b0-4479-9c5a-85fc73df4d79",
   "metadata": {},
   "outputs": [
    {
     "name": "stdout",
     "output_type": "stream",
     "text": [
      "Sevgi,Ali'den Büyüktür : True\n",
      "Yaman, Ali'den Küçüktür : False\n",
      "Yaman ile Sevgi aynı yaştadır : False\n"
     ]
    }
   ],
   "source": [
    "#Ödev-2: İsimlerden oluşan üç değişkene yaş değerleri atanır. Belirlenen üç değişken birbiriyle karşılaştırma operatörleri ile karşılaştırılır.\n",
    "#Bu karşılaştırmalara mantıksal operatörler de eklenir.\n",
    "\n",
    "sevgi,ali,yaman=21,8,35\n",
    "\n",
    "print(\"Sevgi,Ali'den Büyüktür :\", sevgi>ali)\n",
    "print(\"Yaman, Ali'den Küçüktür :\", yaman<ali )\n",
    "print(\"Yaman ile Sevgi aynı yaştadır :\", sevgi==yaman)\n"
   ]
  },
  {
   "cell_type": "code",
   "execution_count": 25,
   "id": "1e763e8b-6bb4-4565-bed2-4b9d7aaeceac",
   "metadata": {},
   "outputs": [
    {
     "name": "stdin",
     "output_type": "stream",
     "text": [
      "1.Değeri giriniz: 65\n",
      "2.Değeri giriniz: 4\n"
     ]
    },
    {
     "name": "stdout",
     "output_type": "stream",
     "text": [
      "69.0\n",
      "61.0\n",
      "260.0\n",
      "16.25\n"
     ]
    }
   ],
   "source": [
    "#Ödev-3: Kullanıcıdan iki değer girmesini istenir. \n",
    "#Girilen değerlerin toplama, çıkarma, çarpma, bölme sonuçlarını yazdırılır.\n",
    "\n",
    "a=float(input(\"1.Değeri giriniz:\"))\n",
    "b=float(input(\"2.Değeri giriniz:\"))\n",
    "\n",
    "top=a+b\n",
    "print(top)\n",
    "\n",
    "cik=a-b\n",
    "print(cik)\n",
    "\n",
    "carp=a*b\n",
    "print(carp)\n",
    "\n",
    "bol=a/b\n",
    "print(bol)"
   ]
  },
  {
   "cell_type": "code",
   "execution_count": 82,
   "id": "aa53f46b-3604-4f7f-bb26-3a5e66f717a3",
   "metadata": {},
   "outputs": [
    {
     "name": "stdin",
     "output_type": "stream",
     "text": [
      "Lütfen Adınızı Giriniz: Pelin\n",
      "Lütfen Yaşınızı Giriniz: 21\n",
      "Lütfen Şehrinizi Giriniz: Adana\n",
      "Lütfen Mesleğinizi Giriniz: Programcı\n"
     ]
    },
    {
     "name": "stdout",
     "output_type": "stream",
     "text": [
      "İsim: Pelin\n",
      "Yaş: 21\n",
      "Şehir: Adana\n",
      "Meslek: Programcı\n"
     ]
    }
   ],
   "source": [
    "#Ödev-4: Kullanıcıdan isim, yaş, şehir ve meslek bilgilerini istenir ve cevaplarını yazdırılır.\n",
    "k_ad=input(\"Lütfen Adınızı Giriniz:\")\n",
    "k_yas=input(\"Lütfen Yaşınızı Giriniz:\")\n",
    "k_sehir=input(\"Lütfen Şehrinizi Giriniz:\")\n",
    "k_meslek=input(\"Lütfen Mesleğinizi Giriniz:\")\n",
    "\n",
    "print(\"İsim:\", k_ad)\n",
    "print(\"Yaş:\", k_yas)\n",
    "print(\"Şehir:\", k_sehir)\n",
    "print(\"Meslek:\", k_meslek)"
   ]
  },
  {
   "cell_type": "code",
   "execution_count": 75,
   "id": "dd9d2eca-ae7b-49b9-8084-744b156d21de",
   "metadata": {},
   "outputs": [
    {
     "name": "stdout",
     "output_type": "stream",
     "text": [
      "1. Kelime:  Yazılımla Güçlenen Kadınlar \n",
      "2. Kelime:  Veri \n",
      "3. Kelime:  Bilimi\n",
      "4. Kelime:  Atölyesi\n",
      "Yazılımla Güçlenen Kadınlar VERI BILIMI ATÖLYESI\n",
      "Yazılımla Güçlenen Kadınlar veri bilimi atölyesi\n",
      "Çift sayılar:  02468\n",
      "Tek sayılar: 13579\n"
     ]
    }
   ],
   "source": [
    "#Ödev-5: \"Yazılımla Güçlenen Kadınlar Veri Bilimi Atölyesi\" ifadesini bir değişkene tanımlanır.\n",
    "#İfadedeki her bir kelimeyi (\"Yazılımla Güçlenen Kadınlar\", \"Veri\", \"Bilimi\", \"Atölyesi\") değişken içinden seçilir.\n",
    "#İfadeyi hepsini büyük harf olacak hale çevrilir. (\"Yazılımla Güçlenen Kadınlar VERİ BİLİMİ ATÖLYESİ\")\n",
    "#İfadeyi hepsini büyük harf olacak hale çevrilir.(\"Yazılımla Güçlenen Kadınlar veri bilimi atölyesi\")\n",
    "\n",
    "#\"0123456789\" ifadesindeki yalnızca çift sayıları ve yalnızca tek sayıları seçilir. (\"02468\", \"13579\")\n",
    "ifade=\"Yazılımla Güçlenen Kadınlar Veri Bilimi Atölyesi\"\n",
    "\n",
    "#1 İfadedeki her bir kelimeyi (\"Yazılımla Güçlenen Kadınlar\", \n",
    "#\"Veri\", \"Bilimi\", \"Atölyesi\") değişken içinden seçilir.\n",
    "\n",
    "kelime1=ifade[0:28]\n",
    "print(\"1. Kelime: \",kelime1)\n",
    "\n",
    "kelime2=ifade[28:33]\n",
    "print(\"2. Kelime: \",kelime2)\n",
    "\n",
    "kelime3=ifade[33:39]\n",
    "print(\"3. Kelime: \",kelime3)\n",
    "\n",
    "kelime4= ifade[40:48]\n",
    "print(\"4. Kelime: \",kelime4)\n",
    "\n",
    "#İfadeyi hepsini büyük harf olacak hale çevrilir. \n",
    "#(\"Yazılımla Güçlenen Kadınlar VERİ BİLİMİ ATÖLYESİ\")\n",
    "\n",
    "ifade_upper= ifade.upper()\n",
    "print(kelime1 + ifade_upper[28:48])\n",
    "\n",
    "#İfadeyi hepsini büyük harf olacak hale çevrilir.\n",
    "#(\"Yazılımla Güçlenen Kadınlar veri bilimi atölyesi\")\n",
    "\n",
    "ifade_lower=ifade.lower()\n",
    "print(kelime1 + ifade_lower[28:48])\n",
    "\n",
    "#\"0123456789\" ifadesindeki yalnızca çift sayıları ve yalnızca tek sayıları seçilir.\n",
    "#(\"02468\", \"13579\")\n",
    "sayi_ifadesi = \"0123456789\"\n",
    "\n",
    "cift_sayilar = sayi_ifadesi[::2] \n",
    "\n",
    "tek_sayilar = sayi_ifadesi[1::2]  #\n",
    "\n",
    "print(\"Çift sayılar: \", cift_sayilar)\n",
    "print(\"Tek sayılar:\", tek_sayilar)\n",
    "\n",
    "\n",
    "\n",
    "\n"
   ]
  }
 ],
 "metadata": {
  "kernelspec": {
   "display_name": "Python 3 (ipykernel)",
   "language": "python",
   "name": "python3"
  },
  "language_info": {
   "codemirror_mode": {
    "name": "ipython",
    "version": 3
   },
   "file_extension": ".py",
   "mimetype": "text/x-python",
   "name": "python",
   "nbconvert_exporter": "python",
   "pygments_lexer": "ipython3",
   "version": "3.11.7"
  }
 },
 "nbformat": 4,
 "nbformat_minor": 5
}
