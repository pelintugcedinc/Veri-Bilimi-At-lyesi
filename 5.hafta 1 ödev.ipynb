{
 "cells": [
  {
   "cell_type": "markdown",
   "id": "7fd8bd06-9dac-430c-9ce4-0d5dab9490f1",
   "metadata": {},
   "source": [
    "# Soru 1"
   ]
  },
  {
   "cell_type": "code",
   "execution_count": 2,
   "id": "700a2fc2-6d4b-4dff-9792-6cb4a7181cb6",
   "metadata": {},
   "outputs": [],
   "source": [
    "liste = [\"Python\",True,9,\"3\",8.4,\"Hi-Kod\",\"False\",4.7]"
   ]
  },
  {
   "cell_type": "code",
   "execution_count": 3,
   "id": "e260af2d-00ad-406b-b206-a8c363e30db4",
   "metadata": {},
   "outputs": [
    {
     "data": {
      "text/plain": [
       "'3'"
      ]
     },
     "execution_count": 3,
     "metadata": {},
     "output_type": "execute_result"
    }
   ],
   "source": [
    "#\"3\" değerine ulaşmak için indexleme yapın.\n",
    "liste[3]"
   ]
  },
  {
   "cell_type": "code",
   "execution_count": 4,
   "id": "cae123e6-3639-4717-90f6-55f43739df63",
   "metadata": {},
   "outputs": [
    {
     "data": {
      "text/plain": [
       "'Hi-Kod'"
      ]
     },
     "execution_count": 4,
     "metadata": {},
     "output_type": "execute_result"
    }
   ],
   "source": [
    "#\"Hi-Kod\" değerine ulaşmak için indexleme yapın.\n",
    "liste[-3]"
   ]
  },
  {
   "cell_type": "code",
   "execution_count": null,
   "id": "78850e71-aee1-45a4-bae8-e2fc90e8244d",
   "metadata": {},
   "outputs": [],
   "source": [
    "# 7 değerine ulaşmak için indexleme yapın.\n",
    "liste[-1]"
   ]
  },
  {
   "cell_type": "code",
   "execution_count": 6,
   "id": "a7c3a501-b5ca-427a-8ebf-207c04881c28",
   "metadata": {},
   "outputs": [
    {
     "data": {
      "text/plain": [
       "[9, '3', 8.4, 'Hi-Kod']"
      ]
     },
     "execution_count": 6,
     "metadata": {},
     "output_type": "execute_result"
    }
   ],
   "source": [
    "# 9,\"3\",8.4,\"Hi-Kod\" değerlerine ulaşmak için slicing yapın.\n",
    "liste[2:6]"
   ]
  },
  {
   "cell_type": "code",
   "execution_count": 19,
   "id": "52ad51a2-815d-4bcd-8717-a0f71ad134ba",
   "metadata": {},
   "outputs": [
    {
     "data": {
      "text/plain": [
       "[8.4, 'Hi-Kod', 'False', 4.7]"
      ]
     },
     "execution_count": 19,
     "metadata": {},
     "output_type": "execute_result"
    }
   ],
   "source": [
    "#8.4,\"Hi-Kod\",\"False\",4.7 değerlerine ulaşmak için slicing yapın.\n",
    "liste[4:8]"
   ]
  },
  {
   "cell_type": "markdown",
   "id": "c27c4ec6-b1ce-4d68-b274-709419368d94",
   "metadata": {},
   "source": [
    "# Soru 2\n",
    "Verilen listede bulunan string veri tipindeki öğeleri yeni_liste isimli listeye eklenir.\n",
    "\n",
    "liste = [\"Python\",True,9,\"3\",8.4,\"Hi-Kod\",\"False\",4.7]\n",
    "\n"
   ]
  },
  {
   "cell_type": "code",
   "execution_count": 24,
   "id": "0606de0a-018b-4160-ab0c-c2e5225ccd71",
   "metadata": {},
   "outputs": [
    {
     "data": {
      "text/plain": [
       "['Python', True, 9, '3', 8.4, 'Hi-Kod', 'False', 4.7]"
      ]
     },
     "execution_count": 24,
     "metadata": {},
     "output_type": "execute_result"
    }
   ],
   "source": []
  },
  {
   "cell_type": "markdown",
   "id": "2948260b-bef6-4049-9b4c-1a8478948a92",
   "metadata": {},
   "source": [
    "# Soru 3\n"
   ]
  },
  {
   "cell_type": "code",
   "execution_count": 25,
   "id": "9e9ee22b-1e85-4333-948b-d5ab69c80604",
   "metadata": {},
   "outputs": [
    {
     "name": "stdout",
     "output_type": "stream",
     "text": [
      "0. indexte bulunan meyve: Elma\n",
      "1. indexte bulunan meyve: çilek\n",
      "2. indexte bulunan meyve: karpuz\n",
      "3. indexte bulunan meyve: muz\n",
      "4. indexte bulunan meyve: kivi\n",
      "5. indexte bulunan meyve: kavun\n"
     ]
    }
   ],
   "source": [
    "meyveler=[\"Elma\",\"çilek\",\"karpuz\",\"muz\",\"kivi\",\"kavun\"]\n",
    "\n",
    "for indeks, meyve in enumerate(meyveler):\n",
    "    print(f\"{indeks}. indexte bulunan meyve: {meyve}\")\n"
   ]
  }
 ],
 "metadata": {
  "kernelspec": {
   "display_name": "Python 3 (ipykernel)",
   "language": "python",
   "name": "python3"
  },
  "language_info": {
   "codemirror_mode": {
    "name": "ipython",
    "version": 3
   },
   "file_extension": ".py",
   "mimetype": "text/x-python",
   "name": "python",
   "nbconvert_exporter": "python",
   "pygments_lexer": "ipython3",
   "version": "3.11.7"
  }
 },
 "nbformat": 4,
 "nbformat_minor": 5
}
