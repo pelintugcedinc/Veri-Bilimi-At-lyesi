{
 "cells": [
  {
   "cell_type": "code",
   "execution_count": 1,
   "id": "88ebf1d6-4b27-457d-b07f-ea341bc3d403",
   "metadata": {},
   "outputs": [],
   "source": [
    "import numpy as np"
   ]
  },
  {
   "cell_type": "code",
   "execution_count": 9,
   "id": "e57896a6-f7bd-42e1-96ec-e3801e57e2c9",
   "metadata": {},
   "outputs": [
    {
     "name": "stdout",
     "output_type": "stream",
     "text": [
      "Array boyutu: (4,)\n",
      "Arraydeki eleman sayısı: 4\n"
     ]
    }
   ],
   "source": [
    "arr=np.array([1,2,3,4.7], dtype=int)\n",
    "\n",
    "boyut = arr.shape\n",
    "eleman_sayisi = arr.size\n",
    "\n",
    "print(f\"Array boyutu: {boyut}\")\n",
    "print(f\"Arraydeki eleman sayısı: {eleman_sayisi}\")\n"
   ]
  },
  {
   "cell_type": "code",
   "execution_count": 11,
   "id": "0fe32bad-e509-439d-baf5-d208f7c1bddb",
   "metadata": {},
   "outputs": [
    {
     "name": "stdout",
     "output_type": "stream",
     "text": [
      "2D Array:\n",
      " [[1 2 3]\n",
      " [4 5 6]]\n",
      "3D Array:\n",
      " [[[ 1  2  3]\n",
      "  [ 4  5  6]]\n",
      "\n",
      " [[ 7  8  9]\n",
      "  [10 11 12]]]\n",
      "2D Array Boyut: (2, 3)\n",
      "2D Array Eleman Sayısı: 6\n",
      "3D Array Boyut: (2, 2, 3)\n",
      "3D Array Eleman Sayısı: 12\n",
      "2D Array [0, 1]: 2\n",
      "3D Array [1, 0, 2]: 9\n",
      "2D Array Dilim [0, :]: [1 2 3]\n",
      "3D Array Dilim [1, :, :]: [[ 7  8  9]\n",
      " [10 11 12]]\n"
     ]
    }
   ],
   "source": [
    "import numpy as np\n",
    "\n",
    "# 2x3 boyutunda bir array oluşturma\n",
    "array_2d = np.array([[1, 2, 3], [4, 5, 6]])\n",
    "print(\"2D Array:\\n\", array_2d)\n",
    "\n",
    "# 2x2x3 boyutunda bir array oluşturma\n",
    "array_3d = np.array([[[1, 2, 3], [4, 5, 6]], [[7, 8, 9], [10, 11, 12]]])\n",
    "print(\"3D Array:\\n\", array_3d)\n",
    "\n",
    "print(\"2D Array Boyut:\", array_2d.shape)\n",
    "print(\"2D Array Eleman Sayısı:\", array_2d.size)\n",
    "\n",
    "print(\"3D Array Boyut:\", array_3d.shape)\n",
    "print(\"3D Array Eleman Sayısı:\", array_3d.size)\n",
    "\n",
    "# 2D array'den bir eleman seçme\n",
    "print(\"2D Array [0, 1]:\", array_2d[0, 1])\n",
    "\n",
    "# 3D array'den bir eleman seçme\n",
    "print(\"3D Array [1, 0, 2]:\", array_3d[1, 0, 2])\n",
    "\n",
    "# 2D array'den bir dilim seçme\n",
    "print(\"2D Array Dilim [0, :]:\", array_2d[0, :])\n",
    "\n",
    "# 3D array'den bir dilim seçme\n",
    "print(\"3D Array Dilim [1, :, :]:\", array_3d[1, :, :])\n"
   ]
  },
  {
   "cell_type": "code",
   "execution_count": 13,
   "id": "de985be2-4cd6-46a8-9085-21fbad549d4f",
   "metadata": {},
   "outputs": [
    {
     "name": "stdout",
     "output_type": "stream",
     "text": [
      "1D Array: [1 2 3 4 5]\n",
      "2D Array:\n",
      " [[1 2 3]\n",
      " [4 5 6]]\n",
      "3D Array:\n",
      " [[[ 1  2  3]\n",
      "  [ 4  5  6]]\n",
      "\n",
      " [[ 7  8  9]\n",
      "  [10 11 12]]]\n",
      "1D Array [2]: 3\n",
      "2D Array [0, 1]: 2\n",
      "3D Array [1, 0, 2]: 9\n",
      "1D Array Dilim [1:4]: [2 3 4]\n",
      "2D Array Dilim [0, :]: [1 2 3]\n",
      "3D Array Dilim [1, :, :]: [[ 7  8  9]\n",
      " [10 11 12]]\n"
     ]
    }
   ],
   "source": [
    "import numpy as np\n",
    "\n",
    "# 1 boyutlu array oluşturma\n",
    "array_1d = np.array([1, 2, 3, 4, 5])\n",
    "print(\"1D Array:\", array_1d)\n",
    "\n",
    "# 2x3 boyutunda bir array oluşturma\n",
    "array_2d = np.array([[1, 2, 3], [4, 5, 6]])\n",
    "print(\"2D Array:\\n\", array_2d)\n",
    "\n",
    "# 2x2x3 boyutunda bir array oluşturma\n",
    "array_3d = np.array([[[1, 2, 3], [4, 5, 6]], [[7, 8, 9], [10, 11, 12]]])\n",
    "print(\"3D Array:\\n\", array_3d)\n",
    "\n",
    "\n",
    "# 1D array'den bir eleman seçme\n",
    "print(\"1D Array [2]:\", array_1d[2])\n",
    "\n",
    "# 2D array'den bir eleman seçme\n",
    "print(\"2D Array [0, 1]:\", array_2d[0, 1])\n",
    "\n",
    "# 3D array'den bir eleman seçme\n",
    "print(\"3D Array [1, 0, 2]:\", array_3d[1, 0, 2])\n",
    "\n",
    "# 1D array'den bir dilim seçme\n",
    "print(\"1D Array Dilim [1:4]:\", array_1d[1:4])\n",
    "\n",
    "# 2D array'den bir dilim seçme\n",
    "print(\"2D Array Dilim [0, :]:\", array_2d[0, :])\n",
    "\n",
    "# 3D array'den bir dilim seçme\n",
    "print(\"3D Array Dilim [1, :, :]:\", array_3d[1, :, :])\n"
   ]
  },
  {
   "cell_type": "code",
   "execution_count": 14,
   "id": "2f04be5a-c551-43fe-b49f-ec7f93ef1b65",
   "metadata": {},
   "outputs": [
    {
     "name": "stdout",
     "output_type": "stream",
     "text": [
      "Sıfırlardan Oluşan Array:\n",
      " [[0. 0. 0.]\n",
      " [0. 0. 0.]]\n",
      "Birlerden Oluşan Array:\n",
      " [[1. 1. 1.]\n",
      " [1. 1. 1.]]\n",
      "Satır Bazında Birleştirilmiş Array:\n",
      " [[0. 0. 0.]\n",
      " [0. 0. 0.]\n",
      " [1. 1. 1.]\n",
      " [1. 1. 1.]]\n",
      "Sütun Bazında Birleştirilmiş Array:\n",
      " [[0. 0. 0. 1. 1. 1.]\n",
      " [0. 0. 0. 1. 1. 1.]]\n"
     ]
    }
   ],
   "source": [
    "import numpy as np\n",
    "\n",
    "# 2x3 boyutunda sıfırlardan oluşan array\n",
    "zeros_array = np.zeros((2, 3))\n",
    "print(\"Sıfırlardan Oluşan Array:\\n\", zeros_array)\n",
    "\n",
    "# 2x3 boyutunda birlerden oluşan array\n",
    "ones_array = np.ones((2, 3))\n",
    "print(\"Birlerden Oluşan Array:\\n\", ones_array)\n",
    "\n",
    "# Satır bazında birleştirme \n",
    "vertical_stack = np.vstack((zeros_array, ones_array))\n",
    "print(\"Satır Bazında Birleştirilmiş Array:\\n\", vertical_stack)\n",
    "\n",
    "# Sütun bazında birleştirme \n",
    "horizontal_stack = np.hstack((zeros_array, ones_array))\n",
    "print(\"Sütun Bazında Birleştirilmiş Array:\\n\", horizontal_stack)\n"
   ]
  },
  {
   "cell_type": "code",
   "execution_count": null,
   "id": "a0834774-33be-420d-9f79-e7fbfbbaefa9",
   "metadata": {},
   "outputs": [],
   "source": []
  },
  {
   "cell_type": "code",
   "execution_count": null,
   "id": "c210a7fc-8ca5-4264-8288-9861fd21ae14",
   "metadata": {},
   "outputs": [],
   "source": []
  },
  {
   "cell_type": "code",
   "execution_count": null,
   "id": "707b7637-dfe1-49c7-be42-f10d28bf210a",
   "metadata": {},
   "outputs": [],
   "source": []
  }
 ],
 "metadata": {
  "kernelspec": {
   "display_name": "Python 3 (ipykernel)",
   "language": "python",
   "name": "python3"
  },
  "language_info": {
   "codemirror_mode": {
    "name": "ipython",
    "version": 3
   },
   "file_extension": ".py",
   "mimetype": "text/x-python",
   "name": "python",
   "nbconvert_exporter": "python",
   "pygments_lexer": "ipython3",
   "version": "3.11.7"
  }
 },
 "nbformat": 4,
 "nbformat_minor": 5
}
