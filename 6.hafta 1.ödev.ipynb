{
 "cells": [
  {
   "cell_type": "code",
   "execution_count": 1,
   "id": "88ebf1d6-4b27-457d-b07f-ea341bc3d403",
   "metadata": {},
   "outputs": [],
   "source": [
    "import numpy as np"
   ]
  },
  {
   "cell_type": "code",
   "execution_count": 10,
   "id": "a0834774-33be-420d-9f79-e7fbfbbaefa9",
   "metadata": {},
   "outputs": [
    {
     "name": "stdout",
     "output_type": "stream",
     "text": [
      "4\n",
      "1\n"
     ]
    }
   ],
   "source": [
    "#Sayılardan oluşan bir boyutlu array oluşturulur. \n",
    "# Arrayi oluştururken sayıların veri tipini integer olarak belirtilir. \n",
    "# Oluşturulan arrayin boyut, eleman sayısı bilgilerine bakın\n",
    "\n",
    "sayilar=np.array([1,2,3,4], dtype=int)\n",
    "\n",
    "print(sayilar.size)\n",
    "print(sayilar.ndim)\n"
   ]
  },
  {
   "cell_type": "code",
   "execution_count": 21,
   "id": "c210a7fc-8ca5-4264-8288-9861fd21ae14",
   "metadata": {},
   "outputs": [
    {
     "name": "stdout",
     "output_type": "stream",
     "text": [
      "Eleman sayısı:  8\n",
      "Boyutu:  2\n",
      "Satır Sayısı: 2\n",
      "Sütun Sayısı: 4\n",
      "Eleman sayısı:  12\n",
      "Boyutu:  2\n",
      "Satır Sayısı: 3\n",
      "Sütun Sayısı: 4\n"
     ]
    },
    {
     "data": {
      "text/plain": [
       "array([[ 9, 10, 11, 12]])"
      ]
     },
     "execution_count": 21,
     "metadata": {},
     "output_type": "execute_result"
    }
   ],
   "source": [
    " #İki ve üç boyutlu arrayler oluşturulur. Bu arraylerin boyut, eleman sayısı,\n",
    "#satır, sütun bilgilerine ulaşılır. Arrayler üzerinde indexleme ve\n",
    "#dilimleme(slicing) işlemi yapılır. \n",
    "\n",
    "sayilar2=np.array([[1,2,3,4],[5,6,7,8]])\n",
    "sayilar3=np.array([[1,2,3,4],[5,6,7,8],[9,10,11,12]])\n",
    "\n",
    "print(\"Eleman sayısı: \",sayilar2.size)\n",
    "print(\"Boyutu: \",sayilar2.ndim)\n",
    "print(\"Satır Sayısı:\", sayilar2.shape[0])\n",
    "print(\"Sütun Sayısı:\", sayilar2.shape[1])\n",
    "\n",
    "print(\"Eleman sayısı: \",sayilar3.size)\n",
    "print(\"Boyutu: \",sayilar3.ndim)\n",
    "print(\"Satır Sayısı:\", sayilar3.shape[0])\n",
    "print(\"Sütun Sayısı:\", sayilar3.shape[1])\n",
    "\n",
    "#2. satırdaki 3. elemana ulaşma\n",
    "sayilar2[1,3]\n",
    "\n",
    "#3. satırdaki 3.elemana ulaşma\n",
    "sayilar3[2,2]\n",
    "\n",
    "#6, 7 ve 8'i ekrana yazdırma\n",
    "sayilar2[1:4,1:8]\n",
    "\n",
    "#9, 10, 11 ve 12'yi ekrana yazdırma\n",
    "sayilar3[2:6]"
   ]
  },
  {
   "cell_type": "code",
   "execution_count": 25,
   "id": "707b7637-dfe1-49c7-be42-f10d28bf210a",
   "metadata": {},
   "outputs": [
    {
     "name": "stdout",
     "output_type": "stream",
     "text": [
      "1D Array:\n",
      "[1 2 3 4 5]\n",
      "İlk eleman: 1\n",
      "Son eleman: 5\n",
      "İlk üç eleman: [1 2 3]\n",
      "Son iki eleman: [4 5]\n",
      "2D Array:\n",
      "[[1 2 3]\n",
      " [4 5 6]]\n",
      "İlk satır, ikinci sütun elemanı: 2\n",
      "İlk satır: [1 2 3]\n",
      "İkinci sütun: [2 5]\n",
      "3D Array:\n",
      "[[1 2 3]\n",
      " [4 5 6]\n",
      " [7 8 9]]\n",
      "İlk katman, ikinci satır, üçüncü sütun elemanı: 2\n",
      "İlk katman:\n",
      "[1 2 3]\n",
      "İkinci katmanın ilk satırı:\n",
      "[4 5 6]\n"
     ]
    }
   ],
   "source": [
    " #Numpy fonksiyonu kullanarak bir, iki ve üç boyutlu arrayler oluşturulur. \n",
    "#Arrayler üzerinde indexleme ve dilimleme(slicing) işlemi yapılır.\n",
    "\n",
    "array_1d = np.array([1, 2, 3, 4, 5])\n",
    "array_2d = np.array([[1, 2, 3], [4, 5, 6]])\n",
    "array_3d = np.array([[1, 2, 3], [4, 5, 6],[7, 8, 9]])\n",
    "\n",
    "print(\"1D Array:\")\n",
    "print(array_1d)\n",
    "\n",
    "# Indexleme\n",
    "print(\"İlk eleman:\", array_1d[0])\n",
    "print(\"Son eleman:\", array_1d[-1])\n",
    "\n",
    "# Dilimleme\n",
    "print(\"İlk üç eleman:\", array_1d[:3])\n",
    "print(\"Son iki eleman:\", array_1d[-2:])\n",
    "\n",
    "print(\"2D Array:\")\n",
    "print(array_2d)\n",
    "\n",
    "# Indexleme\n",
    "print(\"İlk satır, ikinci sütun elemanı:\", array_2d[0, 1])\n",
    "\n",
    "# Dilimleme\n",
    "print(\"İlk satır:\", array_2d[0, :])\n",
    "print(\"İkinci sütun:\", array_2d[:, 1])\n",
    "\n",
    "print(\"3D Array:\")\n",
    "print(array_3d)\n",
    "\n",
    "# Indexleme\n",
    "print(\"İlk katman, ikinci satır, üçüncü sütun elemanı:\", array_3d[0, 1])\n",
    "\n",
    "# Dilimleme\n",
    "print(\"İlk katman:\")\n",
    "print(array_3d[0, :])\n",
    "print(\"İkinci katmanın ilk satırı:\")\n",
    "print(array_3d[1,  :])"
   ]
  },
  {
   "cell_type": "code",
   "execution_count": 28,
   "id": "09e92cd6-2b57-4795-b1aa-9b4e778d7967",
   "metadata": {},
   "outputs": [
    {
     "name": "stdout",
     "output_type": "stream",
     "text": [
      "[[0. 0. 0.]\n",
      " [0. 0. 0.]\n",
      " [1. 1. 1.]\n",
      " [1. 1. 1.]]\n"
     ]
    }
   ],
   "source": [
    "#Sıfırlardan oluşan ve birlerden oluşan iki tane iki boyutlu array oluşturulur. \n",
    "#Bu arrayler satır ve sütun bazında birleştirilir. \n",
    "zeros= np.zeros((2,3))\n",
    "ones= np.ones((2,3))\n",
    "\n",
    "birlestirme= np.concatenate([zeros,ones])\n",
    "print(birlestirme)\n"
   ]
  },
  {
   "cell_type": "code",
   "execution_count": null,
   "id": "3bdec630-2c81-46ec-99aa-271f84693238",
   "metadata": {},
   "outputs": [],
   "source": []
  }
 ],
 "metadata": {
  "kernelspec": {
   "display_name": "Python 3 (ipykernel)",
   "language": "python",
   "name": "python3"
  },
  "language_info": {
   "codemirror_mode": {
    "name": "ipython",
    "version": 3
   },
   "file_extension": ".py",
   "mimetype": "text/x-python",
   "name": "python",
   "nbconvert_exporter": "python",
   "pygments_lexer": "ipython3",
   "version": "3.11.7"
  }
 },
 "nbformat": 4,
 "nbformat_minor": 5
}
