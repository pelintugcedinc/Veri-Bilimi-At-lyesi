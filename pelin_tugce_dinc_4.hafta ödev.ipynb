{
 "cells": [
  {
   "cell_type": "code",
   "execution_count": 2,
   "id": "0885c25a-d6e6-4476-8c4a-1d1a182cdf06",
   "metadata": {},
   "outputs": [
    {
     "name": "stdin",
     "output_type": "stream",
     "text": [
      "Lütfen Maasşınızı Giriniz: 85410\n"
     ]
    },
    {
     "name": "stdout",
     "output_type": "stream",
     "text": [
      "Kesinti Tutarı: 25623.0\n",
      "Yeni Maaş: 59787.0\n"
     ]
    }
   ],
   "source": [
    "#Ödev-1: Kullanıcıdan maaş bilgisini istenir ve bu bilgiye göre maaşından ne kadar vergi kesileceğini hesaplanır. Kullanıcının geliri;\n",
    "# 10000 ve altındaysa maaşından %5 kesinti olur. \n",
    " #25000 ve altındaysa maaşından %10 kesinti olur. \n",
    "# 45000 ve altındaysa maaşından %25 kesinti olur. \n",
    " #Diğer koşullarda %30 kesinti olur. \n",
    "#Bu durumlara göre kullanıcının yeni maaşı yazdırılır.\n",
    "\n",
    "maas=int(input(\"Lütfen Maasşınızı Giriniz:\"))\n",
    "\n",
    "if maas<=10000:\n",
    "    kesinti=maas*0.05\n",
    "    print(\"Kesinti Tutarı:\",kesinti)\n",
    "\n",
    "elif maas<=25000:\n",
    "    kesint=maas*0.10\n",
    "    print(\"Kesinti Tutarı:\",kesinti)\n",
    "    \n",
    "elif maas<=45000:\n",
    "    kesint=maas*0.25\n",
    "    print(\"Kesinti Tutarı:\",kesinti)\n",
    "else :\n",
    "    kesinti=maas*0.30\n",
    "    print(\"Kesinti Tutarı:\",kesinti)\n",
    "\n",
    "yeni_maas= maas-kesinti\n",
    "print(\"Yeni Maaş:\", yeni_maas)"
   ]
  },
  {
   "cell_type": "code",
   "execution_count": 5,
   "id": "5e474378-d5d1-42cd-bfa4-743d6863c604",
   "metadata": {},
   "outputs": [
    {
     "name": "stdin",
     "output_type": "stream",
     "text": [
      "Bir Kullanıcı adı oluşturun: he\n",
      "Şifrenizi OLuşturun: 789456\n"
     ]
    },
    {
     "name": "stdout",
     "output_type": "stream",
     "text": [
      "Hesabınız oluşturuldu!\n"
     ]
    }
   ],
   "source": [
    "#Ödev-2: Kullanıcıdan kullanıcı adı ve şifre oluşturmasını istenir.\n",
    "#Şifrenin uzunluğu altı haneye ulaşmışsa hesabınız oluşturuldu mesajı alınır, \n",
    "#altı haneden azsa altı haneli şifre oluşturması gerektiğinin mesajı alınır. (Sadece koşul kullanılması yeterli.)\n",
    "\n",
    "k_ad=input(\"Bir Kullanıcı adı oluşturun:\")\n",
    "k_sifre=input(\"Şifrenizi OLuşturun:\")\n",
    "\n",
    "\n",
    "if len(k_sifre)==6:\n",
    "    print(\"Hesabınız oluşturuldu!\")\n"
   ]
  },
  {
   "cell_type": "code",
   "execution_count": 30,
   "id": "41de60ff-5187-4bc4-827a-52ee0db02b42",
   "metadata": {},
   "outputs": [
    {
     "name": "stdin",
     "output_type": "stream",
     "text": [
      "Bir Kullanıcı adı oluşturun: po\n",
      "Şifrenizi OLuşturun: 5869\n"
     ]
    },
    {
     "name": "stdout",
     "output_type": "stream",
     "text": [
      "Lütfen girdiniz şifre 5 haneden az 10 haneden fazla olmasın!\n",
      "\n"
     ]
    },
    {
     "name": "stdin",
     "output_type": "stream",
     "text": [
      "Bir Kullanıcı adı oluşturun: pü\n",
      "Şifrenizi OLuşturun: 145236\n"
     ]
    },
    {
     "name": "stdout",
     "output_type": "stream",
     "text": [
      "Hesabınız Oluşturuldu.\n"
     ]
    }
   ],
   "source": [
    "#Ödev-3: Bir önceki örnek geliştirilir.\n",
    "#Kullanıcı girdiği şifre 5 ve 10 hane arasında olmak zorunda. \n",
    "# Eğer bu koşula uyuyorsa \"Hesabınız oluşturuldu.\" mesajı alır. \n",
    " #Koşulu sağlamıyorsa \"Lütfen girdiniz şifre 5 haneden az 10 haneden fazla olmasın!\" uyarısı alır. \n",
    " #Bunu oluştururken kullanıcı istediğimiz şartlarda şifre oluşturana kadar sormaya devam eder \n",
    "  \n",
    "while True:\n",
    "    k_ad=input(\"Bir Kullanıcı adı oluşturun:\")\n",
    "    k_sifre=input(\"Şifrenizi OLuşturun:\") \n",
    "    \n",
    "    if len(k_sifre)<=5:\n",
    "        print(\"Lütfen girdiniz şifre 5 haneden az 10 haneden fazla olmasın!\\n\")\n",
    "\n",
    "    elif len(k_sifre)>=10:\n",
    "        print(\"Lütfen girdiniz şifre 5 haneden az 10 haneden fazla olmasın!\\n\")\n",
    "\n",
    "    else :\n",
    "        print(\"Hesabınız Oluşturuldu.\")\n",
    "        break;"
   ]
  },
  {
   "cell_type": "code",
   "execution_count": 58,
   "id": "2d1c281b-7c8a-4a56-b698-51d7f62d5cc2",
   "metadata": {},
   "outputs": [
    {
     "name": "stdin",
     "output_type": "stream",
     "text": [
      "Bir Kullanıcı adı oluşturun: 5\n",
      "Şifrenizi OLuşturun: 54\n"
     ]
    },
    {
     "name": "stdout",
     "output_type": "stream",
     "text": [
      "Lütfen girdiniz şifre 5 haneden az 10 haneden fazla olmasın! Kalan hakkınız: 2\n",
      "\n"
     ]
    },
    {
     "name": "stdin",
     "output_type": "stream",
     "text": [
      "Bir Kullanıcı adı oluşturun: 44\n",
      "Şifrenizi OLuşturun: 55\n"
     ]
    },
    {
     "name": "stdout",
     "output_type": "stream",
     "text": [
      "Lütfen girdiniz şifre 5 haneden az 10 haneden fazla olmasın! Kalan hakkınız: 1\n",
      "\n"
     ]
    },
    {
     "name": "stdin",
     "output_type": "stream",
     "text": [
      "Bir Kullanıcı adı oluşturun: 55\n",
      "Şifrenizi OLuşturun: 55\n"
     ]
    },
    {
     "name": "stdout",
     "output_type": "stream",
     "text": [
      "Lütfen girdiniz şifre 5 haneden az 10 haneden fazla olmasın!\n",
      "\n"
     ]
    }
   ],
   "source": [
    "#Ödev-4: Kullanıcıdan isim ve şifre isteyeceğiz ve şifre girişi için üç hak verilir.\n",
    "# Eğer önceden tanımlı şifre ile kullanıcıdan gelen şifre aynıysa \"Giriş yapıldı.\" yazar. \n",
    " #Şifre girişi yanlışsa \"Yanlış şifre girildi!\" uyarısı verilsin ve üç yanlış denemede program biter. \n",
    " #Tercihe göre kalan hak bilgisi verilir. \n",
    "counter=3\n",
    "\n",
    "while counter>0:\n",
    "    \n",
    "    k_ad=input(\"Bir Kullanıcı adı oluşturun:\")\n",
    "    k_sifre=input(\"Şifrenizi OLuşturun:\") \n",
    "    \n",
    "    if len(k_sifre) < 5 or len(k_sifre) > 10:\n",
    "        counter-=1      \n",
    "        if counter>0:\n",
    "          print(f\"Lütfen girdiniz şifre 5 haneden az 10 haneden fazla olmasın! Kalan hakkınız: {counter}\\n\")\n",
    "        else:\n",
    "            print(\"Lütfen girdiniz şifre 5 haneden az 10 haneden fazla olmasın!\\n\")\n",
    "\n",
    "    else :\n",
    "        print(\"Hesabınız Oluşturuldu.\")\n",
    "        break;\n",
    "\n",
    "    \n",
    "    "
   ]
  },
  {
   "cell_type": "code",
   "execution_count": null,
   "id": "1f1abc82-bbd1-4719-a306-5f9b01535c3f",
   "metadata": {},
   "outputs": [],
   "source": []
  }
 ],
 "metadata": {
  "kernelspec": {
   "display_name": "Python 3 (ipykernel)",
   "language": "python",
   "name": "python3"
  },
  "language_info": {
   "codemirror_mode": {
    "name": "ipython",
    "version": 3
   },
   "file_extension": ".py",
   "mimetype": "text/x-python",
   "name": "python",
   "nbconvert_exporter": "python",
   "pygments_lexer": "ipython3",
   "version": "3.11.7"
  }
 },
 "nbformat": 4,
 "nbformat_minor": 5
}
