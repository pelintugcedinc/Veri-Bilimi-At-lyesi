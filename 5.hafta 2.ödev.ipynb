{
 "cells": [
  {
   "cell_type": "code",
   "execution_count": 6,
   "id": "4bc77e99-f090-45f9-acdc-1ac81986e3b7",
   "metadata": {},
   "outputs": [
    {
     "name": "stdin",
     "output_type": "stream",
     "text": [
      "Öğrenci adını girin:  Ali\n",
      "Matematik notunu giriniz:  96\n",
      "Fizik notunu giriniz:  56\n",
      "Kimya notunu giriniz:  86\n",
      "Bilgi almak istediğiniz öğrencinin adını girin:  Ali\n"
     ]
    },
    {
     "name": "stdout",
     "output_type": "stream",
     "text": [
      "Ali adlı öğrencinin notları:\n",
      "Matematik: 96\n",
      "Fizik: 56\n",
      "Kimya: 86\n"
     ]
    }
   ],
   "source": [
    "ogrenci_sozlugu = {\n",
    "    'ad': input(\"Öğrenci adını girin: \"),\n",
    "    'Matematik': int(input(\"Matematik notunu giriniz: \")),\n",
    "    'Fizik': int(input(\"Fizik notunu giriniz: \")),\n",
    "    'Kimya': int(input(\"Kimya notunu giriniz: \"))\n",
    "}\n",
    "\n",
    "istenen_ogrenci = input(\"Bilgi almak istediğiniz öğrencinin adını girin: \")\n",
    "\n",
    "if istenen_ogrenci in ogrenci_sozlugu['ad']:\n",
    "    ogrenci_bilgisi = ogrenci_sozlugu\n",
    "    print(f\"{istenen_ogrenci} adlı öğrencinin notları:\")\n",
    "    \n",
    "    for ders, notu in ogrenci_bilgisi.items():\n",
    "        if ders != 'ad':\n",
    "            print(f\"{ders}: {notu}\")\n",
    "else:\n",
    "    print(f\"{istenen_ogrenci} adlı öğrenci bulunamadı.\")\n"
   ]
  },
  {
   "cell_type": "code",
   "execution_count": 12,
   "id": "58122133-ad1e-4fe9-adb6-217d14cd990c",
   "metadata": {},
   "outputs": [
    {
     "data": {
      "text/plain": [
       "{'ad': 'Ali', 'Matematik': 70, 'Fizik': 56, 'Kimya': 86}"
      ]
     },
     "execution_count": 12,
     "metadata": {},
     "output_type": "execute_result"
    }
   ],
   "source": [
    "ogrenci_sozlugu.update({'Matematik': 70})\n",
    "ogrenci_bilgisi\n"
   ]
  },
  {
   "cell_type": "code",
   "execution_count": null,
   "id": "793ca351-c120-4e6a-b987-b60f4d76df34",
   "metadata": {},
   "outputs": [],
   "source": []
  }
 ],
 "metadata": {
  "kernelspec": {
   "display_name": "Python 3 (ipykernel)",
   "language": "python",
   "name": "python3"
  },
  "language_info": {
   "codemirror_mode": {
    "name": "ipython",
    "version": 3
   },
   "file_extension": ".py",
   "mimetype": "text/x-python",
   "name": "python",
   "nbconvert_exporter": "python",
   "pygments_lexer": "ipython3",
   "version": "3.11.7"
  }
 },
 "nbformat": 4,
 "nbformat_minor": 5
}
